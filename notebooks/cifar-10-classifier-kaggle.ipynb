{
 "cells": [
  {
   "cell_type": "code",
   "execution_count": null,
   "metadata": {
    "_cell_guid": "b1076dfc-b9ad-4769-8c92-a6c4dae69d19",
    "_uuid": "8f2839f25d086af736a60e9eeb907d3b93b6e0e5",
    "trusted": true
   },
   "outputs": [],
   "source": [
    "# This Python 3 environment comes with many helpful analytics libraries installed\n",
    "# It is defined by the kaggle/python Docker image: https://github.com/kaggle/docker-python\n",
    "# For example, here's several helpful packages to load\n",
    "\n",
    "import numpy as np # linear algebra\n",
    "import pandas as pd # data processing, CSV file I/O (e.g. pd.read_csv)\n",
    "\n",
    "# Input data files are available in the read-only \"../input/\" directory\n",
    "# For example, running this (by clicking run or pressing Shift+Enter) will list all files under the input directory\n",
    "\n",
    "import os\n",
    "for dirname, _, filenames in os.walk('/kaggle/input'):\n",
    "    for filename in filenames:\n",
    "        print(os.path.join(dirname, filename))\n",
    "\n",
    "# You can write up to 20GB to the current directory (/kaggle/working/) that gets preserved as output when you create a version using \"Save & Run All\" \n",
    "# You can also write temporary files to /kaggle/temp/, but they won't be saved outside of the current session\n"
   ]
  },
  {
   "cell_type": "code",
   "execution_count": null,
   "metadata": {
    "trusted": true
   },
   "outputs": [],
   "source": [
    "!git clone https://github.com/jessenb16/CIFAR_10_Classification.git\n",
    "%cd CIFAR_10_Classification"
   ]
  },
  {
   "cell_type": "code",
   "execution_count": null,
   "metadata": {
    "trusted": true
   },
   "outputs": [],
   "source": [
    "# Define file paths in /kaggle/working\n",
    "csv_file = '/kaggle/working/saved_data/resnet1_metrics.csv'\n",
    "#current_checkpoint_file = '/kaggle/input/checkpoint/ckpt_resnetv1_e200.pth'\n",
    "checkpoint_dir = '/kaggle/working/saved_models'\n",
    "\n",
    "# Create directories if they don't exist\n",
    "os.makedirs(os.path.dirname(csv_file), exist_ok=True)\n",
    "os.makedirs(checkpoint_dir, exist_ok=True)\n",
    "checkpoint_file = os.path.join(checkpoint_dir, 'ckpt.pth')"
   ]
  },
  {
   "cell_type": "code",
   "execution_count": null,
   "metadata": {
    "trusted": true
   },
   "outputs": [],
   "source": [
    "import torch.optim as optim\n",
    "import torchvision.transforms as transforms\n",
    "from src.model import create_model, count_parameters\n",
    "from src.train import main as train\n",
    "from src.evaluate import main as evaluate\n",
    "\n",
    "#Choose model parameters\n",
    "BLOCKS_PER_LAYER = [3,3,4]\n",
    "CHANNELS_PER_LAYER = [60,122,244]\n",
    "KERNEL_SIZE = 3\n",
    "SKIP_KERNEL_SIZE = 1\n",
    "POOL_SIZE = 8\n",
    "\n",
    "EPOCHS = 150\n",
    "\n",
    "TRAIN_BATCH_SIZE = 128\n",
    "TEST_BATCH_SIZE = 128\n",
    "AUGMENTATIONS = [\n",
    "    transforms.RandomCrop(32, padding=4),\n",
    "    transforms.RandomHorizontalFlip(),\n",
    "    transforms.ToTensor(),\n",
    "    transforms.RandomErasing(p=0.5),\n",
    "]\n",
    "NUM_WORKERS = 4\n",
    "\n",
    "RESUME = False\n",
    "CUTMIX_MIXUP = False"
   ]
  },
  {
   "cell_type": "code",
   "execution_count": null,
   "metadata": {
    "trusted": true
   },
   "outputs": [],
   "source": [
    "#Create Model\n",
    "try:\n",
    "    model=create_model(\n",
    "        blocks_per_layer = BLOCKS_PER_LAYER,\n",
    "        channels_per_layer = CHANNELS_PER_LAYER,\n",
    "        kernel_size = KERNEL_SIZE,\n",
    "        skip_kernel_size = SKIP_KERNEL_SIZE,\n",
    "        pool_size = POOL_SIZE\n",
    "    )\n",
    "    print(\"Number of parameters =\",count_parameters(model))\n",
    "except AssertionError as e:\n",
    "    print(f'Failed to create model: {e}')\n",
    "    exit(1)\n",
    "\n"
   ]
  },
  {
   "cell_type": "code",
   "execution_count": null,
   "metadata": {
    "trusted": true
   },
   "outputs": [],
   "source": [
    "#Train model\n",
    "try:\n",
    "    LEARNING_RATE = 0.1\n",
    "    SMOOTHING = 0.05\n",
    "        \n",
    "    # Define optimizer\n",
    "    OPTIMIZER = optim.SGD(model.parameters(), lr=LEARNING_RATE, momentum=0.9, weight_decay=5e-4, nesterov=True)\n",
    "    #OPTIMIZER = optim.Adam(model.parameters(), lr=LEARNING_RATE, weight_decay=1e-4)\n",
    "        \n",
    "    # Define scheduler\n",
    "    # SCHEDULER = optim.lr_scheduler.StepLR(OPTIMIZER, step_size=10, gamma=0.1)\n",
    "    # SCHEDULER = optim.lr_scheduler.MultiStepLR(OPTIMIZER, milestones=[30, 60, 90], gamma=0.1)\n",
    "    SCHEDULER = optim.lr_scheduler.CosineAnnealingLR(OPTIMIZER, T_max=EPOCHS)\n",
    "        \n",
    "    # If no scheduler, set to None\n",
    "    SCHEDULER = SCHEDULER if 'SCHEDULER' in locals() and SCHEDULER is not None else None\n",
    "\n",
    "    # train(model, EPOCHS)\n",
    "    train(model, EPOCHS, train_batch_size=TRAIN_BATCH_SIZE, test_batch_size=TEST_BATCH_SIZE,\n",
    "          augmentations=AUGMENTATIONS, optimizer=OPTIMIZER, scheduler=SCHEDULER,\n",
    "          learning_rate=LEARNING_RATE, smoothing=SMOOTHING, resume=RESUME, cutmix_mixup=CUTMIX_MIXUP)\n",
    "except (ValueError, TypeError) as e:\n",
    "    print(f'Training failed: {e}')\n",
    "    exit(1)"
   ]
  },
  {
   "cell_type": "code",
   "execution_count": null,
   "metadata": {
    "trusted": true
   },
   "outputs": [],
   "source": [
    "#Evaluate hidden dataset\n",
    "try:\n",
    "    evaluate()\n",
    "except FileNotFoundError as e:\n",
    "    print(f'Evaluation failed: {e}')"
   ]
  }
 ],
 "metadata": {
  "kaggle": {
   "accelerator": "gpu",
   "dataSources": [
    {
     "databundleVersionId": 11145869,
     "isSourceIdPinned": false,
     "sourceId": 93057,
     "sourceType": "competition"
    },
    {
     "datasetId": 6834803,
     "sourceId": 10982349,
     "sourceType": "datasetVersion"
    },
    {
     "datasetId": 6856740,
     "sourceId": 11012843,
     "sourceType": "datasetVersion"
    },
    {
     "datasetId": 6856757,
     "sourceId": 11021115,
     "sourceType": "datasetVersion"
    },
    {
     "isSourceIdPinned": false,
     "modelId": 265234,
     "modelInstanceId": 243608,
     "sourceId": 284272,
     "sourceType": "modelInstanceVersion"
    }
   ],
   "dockerImageVersionId": 30918,
   "isGpuEnabled": true,
   "isInternetEnabled": true,
   "language": "python",
   "sourceType": "notebook"
  },
  "kernelspec": {
   "display_name": "Python 3",
   "language": "python",
   "name": "python3"
  },
  "language_info": {
   "codemirror_mode": {
    "name": "ipython",
    "version": 3
   },
   "file_extension": ".py",
   "mimetype": "text/x-python",
   "name": "python",
   "nbconvert_exporter": "python",
   "pygments_lexer": "ipython3",
   "version": "3.10.12"
  }
 },
 "nbformat": 4,
 "nbformat_minor": 4
}
